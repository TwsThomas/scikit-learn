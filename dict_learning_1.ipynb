{
 "cells": [
  {
   "cell_type": "code",
   "execution_count": 20,
   "metadata": {},
   "outputs": [
    {
     "name": "stdout",
     "output_type": "stream",
     "text": [
      "The autoreload extension is already loaded. To reload it, use:\n",
      "  %reload_ext autoreload\n"
     ]
    }
   ],
   "source": [
    "import numpy as np\n",
    "import matplotlib.pyplot as plt\n",
    "import pandas as pd\n",
    "\n",
    "from scipy import linalg\n",
    "import time\n",
    "\n",
    "from sklearn.decomposition import dict_learning_online\n",
    "from sklearn.decomposition import sparse_encode,dict_learning\n",
    "\n",
    "from sklearn.decomposition._dict_learning_na import sparse_encode_na,\\\n",
    "                                            update1, dict_learning_na,\\\n",
    "                                            update_dict_na\n",
    "\n",
    "\n",
    "%load_ext autoreload\n",
    "%autoreload 2"
   ]
  },
  {
   "cell_type": "code",
   "execution_count": 2,
   "metadata": {},
   "outputs": [],
   "source": [
    "import warnings\n",
    "warnings.filterwarnings('ignore')"
   ]
  },
  {
   "cell_type": "code",
   "execution_count": 3,
   "metadata": {},
   "outputs": [],
   "source": [
    "from sklearn.decomposition.bench_dict_learning import *"
   ]
  },
  {
   "cell_type": "code",
   "execution_count": 4,
   "metadata": {},
   "outputs": [],
   "source": [
    "U = np.random.randn(50, 5)\n",
    "V = np.random.randn(5, 10)\n",
    "X = np.dot(U, V)"
   ]
  },
  {
   "cell_type": "code",
   "execution_count": 64,
   "metadata": {},
   "outputs": [],
   "source": [
    "rng_global = np.random.RandomState(0)\n",
    "n_samples, n_features = 300, 8\n",
    "n_components = 12\n",
    "X = rng_global.randn(n_samples, n_features)\n",
    "\n",
    "X[-1] = [1,2,3,4,5,6,7,8]\n",
    "\n",
    "code, dict_, loss = dict_learning_online(X, n_components = n_components, alpha = 1, n_iter = 500)\n"
   ]
  },
  {
   "cell_type": "code",
   "execution_count": 65,
   "metadata": {},
   "outputs": [
    {
     "data": {
      "text/plain": [
       "[<matplotlib.lines.Line2D at 0x7ff5074d6eb8>]"
      ]
     },
     "execution_count": 65,
     "metadata": {},
     "output_type": "execute_result"
    },
    {
     "data": {
      "image/png": "[encoded data removed]",
      "text/plain": [
       "<Figure size 432x288 with 1 Axes>"
      ]
     },
     "metadata": {
      "needs_background": "light"
     },
     "output_type": "display_data"
    }
   ],
   "source": [
    "plt.plot(loss)"
   ]
  },
  {
   "cell_type": "code",
   "execution_count": 6,
   "metadata": {
    "collapsed": true,
    "jupyter": {
     "outputs_hidden": true
    }
   },
   "outputs": [
    {
     "name": "stdout",
     "output_type": "stream",
     "text": [
      "[-0.07034241  0.         -0.2412695  -0.05714164 -0.07525773  0.\n",
      "  0.          0.          0.          0.        ]\n",
      "0.0\n",
      "[ 0.          0.          0.          0.          0.          0.37200147\n",
      "  0.          0.          0.         -0.31553685]\n",
      "0.0\n",
      "[ 3.63035194  0.          0.          0.          0.          0.\n",
      " -1.1393109   0.20692162  0.          0.        ]\n",
      "0.0\n",
      "[ 0.         -0.57516638  0.          0.          0.         -0.28904554\n",
      " -0.42268373  0.          0.          0.        ]\n",
      "0.0\n",
      "[0.         0.         1.38900621 0.         0.         2.94909758\n",
      " 0.         0.         0.07553137 0.        ]\n",
      "0.0057049872236826565\n",
      "[ 0.         -0.09319287  0.          1.62562696  0.          0.\n",
      "  0.          0.          0.          0.        ]\n",
      "0.0\n",
      "[ 0.          0.05138544  0.         -3.31920823  0.          0.\n",
      "  4.53227064  0.          0.89290194  0.        ]\n",
      "0.7972738702630341\n",
      "[0.         0.         0.         2.49276651 0.         0.\n",
      " 6.53787083 0.         0.         0.69619006]\n",
      "0.0\n",
      "[-2.76346997  0.         -1.16380471  1.49710877  0.          0.\n",
      "  0.          0.          0.          0.        ]\n",
      "0.0\n",
      "[ 0.          0.          0.         -6.86849552  0.         -1.36950701\n",
      "  0.          1.08890857  0.          0.        ]\n",
      "0.0\n",
      "[ 0.          0.         -0.44080559  0.         -3.36754759 -0.82133222\n",
      "  0.          0.          0.          0.        ]\n",
      "0.0\n",
      "[ 0.          0.          0.          0.02989679  1.86731134  0.\n",
      "  0.45451195 -5.05625204  0.          0.        ]\n",
      "0.0\n",
      "[ 0.          0.          0.          0.         -1.70903815  0.\n",
      "  1.10247734  0.          0.87938266  3.19269873]\n",
      "0.7733138571266043\n",
      "[-0.35096803  0.08521288  0.         -4.6112398   0.          0.\n",
      "  0.          0.          0.3616857   0.        ]\n",
      "0.1308165423935743\n",
      "[ 0.         -0.18791472 -3.00079382  0.          0.         -0.28473144\n",
      " -1.91070381  0.         -2.04753883  0.        ]\n",
      "4.192415249905051\n",
      "[-0.39163767  0.          0.          0.         -2.10416255  0.\n",
      "  0.          0.          0.          1.26049251]\n",
      "0.0\n",
      "[ 0.          0.          0.         -1.57745467  0.          1.89355649\n",
      "  0.          0.          1.94832219  0.        ]\n",
      "3.7959593396230944\n",
      "[ 0.          0.          2.16935482  0.          0.9844221   0.\n",
      "  0.         -0.9271403   0.          0.        ]\n",
      "0.0\n",
      "[-1.32239117  0.          0.          0.          0.          0.\n",
      "  0.2238313   0.          1.70133372  0.        ]\n",
      "2.8945364235125814\n",
      "[ 0.          0.          0.         -3.53180908 -0.86137984  0.\n",
      "  0.          0.          0.          0.        ]\n",
      "0.0\n",
      "[ 0.         -1.17145854  0.          0.          0.         -0.44781431\n",
      "  0.          0.          0.          0.77399371]\n",
      "0.0\n"
     ]
    },
    {
     "ename": "KeyboardInterrupt",
     "evalue": "",
     "output_type": "error",
     "traceback": [
      "\u001b[0;31m---------------------------------------------------------------------------\u001b[0m",
      "\u001b[0;31mKeyboardInterrupt\u001b[0m                         Traceback (most recent call last)",
      "\u001b[0;32m<ipython-input-6-5dbfd4a402fd>\u001b[0m in \u001b[0;36m<module>\u001b[0;34m\u001b[0m\n\u001b[0;32m----> 1\u001b[0;31m \u001b[0mcode\u001b[0m\u001b[0;34m,\u001b[0m \u001b[0mdict_\u001b[0m\u001b[0;34m,\u001b[0m \u001b[0mloss\u001b[0m \u001b[0;34m=\u001b[0m \u001b[0mdict_learning_na\u001b[0m\u001b[0;34m(\u001b[0m\u001b[0mX\u001b[0m\u001b[0;34m,\u001b[0m \u001b[0mn_components\u001b[0m \u001b[0;34m=\u001b[0m \u001b[0;36m10\u001b[0m\u001b[0;34m,\u001b[0m \u001b[0malpha\u001b[0m \u001b[0;34m=\u001b[0m \u001b[0;36m1\u001b[0m\u001b[0;34m,\u001b[0m \u001b[0mT\u001b[0m \u001b[0;34m=\u001b[0m \u001b[0;36m500\u001b[0m\u001b[0;34m)\u001b[0m\u001b[0;34m\u001b[0m\u001b[0;34m\u001b[0m\u001b[0m\n\u001b[0m\u001b[1;32m      2\u001b[0m \u001b[0mplt\u001b[0m\u001b[0;34m.\u001b[0m\u001b[0mplot\u001b[0m\u001b[0;34m(\u001b[0m\u001b[0mloss\u001b[0m\u001b[0;34m)\u001b[0m\u001b[0;34m\u001b[0m\u001b[0;34m\u001b[0m\u001b[0m\n",
      "\u001b[0;32m~/Documents/scikit-learn/sklearn/decomposition/_dict_learning_na.py\u001b[0m in \u001b[0;36mdict_learning_na\u001b[0;34m(X, n_components, alpha, ro, T)\u001b[0m\n\u001b[1;32m    154\u001b[0m \u001b[0;34m\u001b[0m\u001b[0m\n\u001b[1;32m    155\u001b[0m         \u001b[0;31m# print(C)\u001b[0m\u001b[0;34m\u001b[0m\u001b[0;34m\u001b[0m\u001b[0;34m\u001b[0m\u001b[0m\n\u001b[0;32m--> 156\u001b[0;31m         \u001b[0mD\u001b[0m \u001b[0;34m=\u001b[0m \u001b[0mupdate_dict_na\u001b[0m\u001b[0;34m(\u001b[0m\u001b[0mC\u001b[0m\u001b[0;34m,\u001b[0m \u001b[0mB\u001b[0m\u001b[0;34m,\u001b[0m \u001b[0me\u001b[0m\u001b[0;34m,\u001b[0m \u001b[0mD\u001b[0m\u001b[0;34m,\u001b[0m \u001b[0mthis_code\u001b[0m\u001b[0;34m,\u001b[0m \u001b[0mDelta\u001b[0m\u001b[0;34m)\u001b[0m\u001b[0;34m\u001b[0m\u001b[0;34m\u001b[0m\u001b[0m\n\u001b[0m\u001b[1;32m    157\u001b[0m         \u001b[0;32massert\u001b[0m \u001b[0mD\u001b[0m\u001b[0;34m.\u001b[0m\u001b[0mshape\u001b[0m \u001b[0;34m==\u001b[0m \u001b[0;34m(\u001b[0m\u001b[0mn_feat\u001b[0m\u001b[0;34m,\u001b[0m \u001b[0mn_components\u001b[0m\u001b[0;34m)\u001b[0m\u001b[0;34m\u001b[0m\u001b[0;34m\u001b[0m\u001b[0m\n\u001b[1;32m    158\u001b[0m \u001b[0;34m\u001b[0m\u001b[0m\n",
      "\u001b[0;32m~/Documents/scikit-learn/sklearn/decomposition/_dict_learning_na.py\u001b[0m in \u001b[0;36mupdate_dict_na\u001b[0;34m(C, B, e, D, code, Delta, Td)\u001b[0m\n\u001b[1;32m     88\u001b[0m \u001b[0;34m\u001b[0m\u001b[0m\n\u001b[1;32m     89\u001b[0m             \u001b[0;31m#FIXME LinalgError if rank(X) < n_components\u001b[0m\u001b[0;34m\u001b[0m\u001b[0;34m\u001b[0m\u001b[0;34m\u001b[0m\u001b[0m\n\u001b[0;32m---> 90\u001b[0;31m             \u001b[0;32mif\u001b[0m \u001b[0mnp\u001b[0m\u001b[0;34m.\u001b[0m\u001b[0mmax\u001b[0m\u001b[0;34m(\u001b[0m\u001b[0mnp\u001b[0m\u001b[0;34m.\u001b[0m\u001b[0mabs\u001b[0m\u001b[0;34m(\u001b[0m\u001b[0mC\u001b[0m\u001b[0;34m[\u001b[0m\u001b[0mj\u001b[0m\u001b[0;34m]\u001b[0m\u001b[0;34m)\u001b[0m\u001b[0;34m)\u001b[0m \u001b[0;34m==\u001b[0m \u001b[0;36m0\u001b[0m\u001b[0;34m:\u001b[0m\u001b[0;34m\u001b[0m\u001b[0;34m\u001b[0m\u001b[0m\n\u001b[0m\u001b[1;32m     91\u001b[0m                 \u001b[0;31m# if C[j] is 0, assign random weight to u_j...\u001b[0m\u001b[0;34m\u001b[0m\u001b[0;34m\u001b[0m\u001b[0;34m\u001b[0m\u001b[0m\n\u001b[1;32m     92\u001b[0m                 \u001b[0;31m# print(j, td, 'C_j ==0, use uj = randn')\u001b[0m\u001b[0;34m\u001b[0m\u001b[0;34m\u001b[0m\u001b[0;34m\u001b[0m\u001b[0m\n",
      "\u001b[0;32m<__array_function__ internals>\u001b[0m in \u001b[0;36mamax\u001b[0;34m(*args, **kwargs)\u001b[0m\n",
      "\u001b[0;32m~/.local/lib/python3.7/site-packages/numpy/core/fromnumeric.py\u001b[0m in \u001b[0;36mamax\u001b[0;34m(a, axis, out, keepdims, initial, where)\u001b[0m\n\u001b[1;32m   2619\u001b[0m     \"\"\"\n\u001b[1;32m   2620\u001b[0m     return _wrapreduction(a, np.maximum, 'max', axis, None, out,\n\u001b[0;32m-> 2621\u001b[0;31m                           keepdims=keepdims, initial=initial, where=where)\n\u001b[0m\u001b[1;32m   2622\u001b[0m \u001b[0;34m\u001b[0m\u001b[0m\n\u001b[1;32m   2623\u001b[0m \u001b[0;34m\u001b[0m\u001b[0m\n",
      "\u001b[0;32m~/.local/lib/python3.7/site-packages/numpy/core/fromnumeric.py\u001b[0m in \u001b[0;36m_wrapreduction\u001b[0;34m(obj, ufunc, method, axis, dtype, out, **kwargs)\u001b[0m\n\u001b[1;32m     71\u001b[0m \u001b[0;34m\u001b[0m\u001b[0m\n\u001b[1;32m     72\u001b[0m \u001b[0;34m\u001b[0m\u001b[0m\n\u001b[0;32m---> 73\u001b[0;31m \u001b[0;32mdef\u001b[0m \u001b[0m_wrapreduction\u001b[0m\u001b[0;34m(\u001b[0m\u001b[0mobj\u001b[0m\u001b[0;34m,\u001b[0m \u001b[0mufunc\u001b[0m\u001b[0;34m,\u001b[0m \u001b[0mmethod\u001b[0m\u001b[0;34m,\u001b[0m \u001b[0maxis\u001b[0m\u001b[0;34m,\u001b[0m \u001b[0mdtype\u001b[0m\u001b[0;34m,\u001b[0m \u001b[0mout\u001b[0m\u001b[0;34m,\u001b[0m \u001b[0;34m**\u001b[0m\u001b[0mkwargs\u001b[0m\u001b[0;34m)\u001b[0m\u001b[0;34m:\u001b[0m\u001b[0;34m\u001b[0m\u001b[0;34m\u001b[0m\u001b[0m\n\u001b[0m\u001b[1;32m     74\u001b[0m     passkwargs = {k: v for k, v in kwargs.items()\n\u001b[1;32m     75\u001b[0m                   if v is not np._NoValue}\n",
      "\u001b[0;31mKeyboardInterrupt\u001b[0m: "
     ]
    }
   ],
   "source": [
    "code, dict_, loss = dict_learning_na(X, n_components = 10, alpha = 1, T = 500)\n",
    "plt.plot(loss)"
   ]
  },
  {
   "cell_type": "code",
   "execution_count": 32,
   "metadata": {},
   "outputs": [],
   "source": [
    "code, dict_, loss = dict_learning(X, n_components = n_components, alpha = 1)"
   ]
  },
  {
   "cell_type": "code",
   "execution_count": 33,
   "metadata": {},
   "outputs": [
    {
     "data": {
      "text/plain": [
       "[<matplotlib.lines.Line2D at 0x7faae8414c50>]"
      ]
     },
     "execution_count": 33,
     "metadata": {},
     "output_type": "execute_result"
    },
    {
     "data": {
      "image/png": "[encoded data removed]",
      "text/plain": [
       "<Figure size 432x288 with 1 Axes>"
      ]
     },
     "metadata": {
      "needs_background": "light"
     },
     "output_type": "display_data"
    }
   ],
   "source": [
    "plt.plot(loss)"
   ]
  },
  {
   "cell_type": "code",
   "execution_count": null,
   "metadata": {},
   "outputs": [],
   "source": []
  },
  {
   "cell_type": "code",
   "execution_count": null,
   "metadata": {},
   "outputs": [],
   "source": [
    "for rank in [5, 15]:\n",
    "    plt.figure()\n",
    "    bench_loss(n_samples = 70, n_features = 12,\n",
    "               rank = rank, n_components = 10, alpha = 1)\n",
    "    plt.title('rank = ' + str(rank))"
   ]
  },
  {
   "cell_type": "code",
   "execution_count": null,
   "metadata": {},
   "outputs": [],
   "source": [
    "for rank in [5, 15]:\n",
    "    plt.figure()\n",
    "    bench_loss(n_samples = 70, n_features = 12,\n",
    "               rank = rank, n_components = 10, alpha = 1)\n",
    "    plt.title('rank = ' + str(rank))"
   ]
  }
 ],
 "metadata": {
  "kernelspec": {
   "display_name": "Python 3",
   "language": "python",
   "name": "python3"
  },
  "language_info": {
   "codemirror_mode": {
    "name": "ipython",
    "version": 3
   },
   "file_extension": ".py",
   "mimetype": "text/x-python",
   "name": "python",
   "nbconvert_exporter": "python",
   "pygments_lexer": "ipython3",
   "version": "3.7.3"
  }
 },
 "nbformat": 4,
 "nbformat_minor": 4
}
